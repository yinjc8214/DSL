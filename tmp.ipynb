{
 "cells": [
  {
   "cell_type": "code",
   "execution_count": 1,
   "id": "45e125b6-e164-4158-9b1e-b42ae40fbf04",
   "metadata": {},
   "outputs": [],
   "source": [
    "import madgrad\n",
    "from examples.mnistAddition.dataset_generation import *\n",
    "from examples.mnistAddition.models import *\n",
    "from examples.mnistAddition.trainer import *"
   ]
  },
  {
   "cell_type": "code",
   "execution_count": null,
   "id": "0e447432-6464-4f0d-b5ca-818de324f172",
   "metadata": {},
   "outputs": [],
   "source": [
    "torch.manual_seed(0)\n",
    "random.seed(0)\n",
    "np.random.seed(0)\n",
    "# DEVICE = 'cpu' #TODO GPU is much faster, but scatter_add_cuda_kernel wasn't implemented in a deterministic way. Thus on GPU exp is not exactly reproducible (issue here: https://discuss.pytorch.org/t/runtimeerror-scatter-add-cuda-kernel-does-not-have-a-deterministic-implementation/132290)\n",
    "DEVICE = 'cuda'\n",
    "BATCH_SIZE = 128\n",
    "BATCH_SIZE_VAL = 1000\n",
    "CKPT_SAVE = 50\n",
    "EPOCHS = 100"
   ]
  },
  {
   "cell_type": "code",
   "execution_count": null,
   "id": "63691ae4-fb5d-4f5f-b814-bec985e46f2f",
   "metadata": {},
   "outputs": [],
   "source": []
  }
 ],
 "metadata": {
  "kernelspec": {
   "display_name": "Python 3 (ipykernel)",
   "language": "python",
   "name": "python3"
  },
  "language_info": {
   "codemirror_mode": {
    "name": "ipython",
    "version": 3
   },
   "file_extension": ".py",
   "mimetype": "text/x-python",
   "name": "python",
   "nbconvert_exporter": "python",
   "pygments_lexer": "ipython3",
   "version": "3.11.4"
  }
 },
 "nbformat": 4,
 "nbformat_minor": 5
}
